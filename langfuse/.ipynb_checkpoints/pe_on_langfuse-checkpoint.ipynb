{
 "cells": [
  {
   "cell_type": "markdown",
   "id": "dfee09ca-d623-4952-9aee-07d3e46ad6a5",
   "metadata": {},
   "source": [
    "# langfuse prompt engineering "
   ]
  },
  {
   "cell_type": "code",
   "execution_count": 2,
   "id": "e7774a19-8105-4922-8126-2cd6052e14f2",
   "metadata": {},
   "outputs": [],
   "source": [
    "# import\n",
    "from langfuse import Langfuse\n",
    "import openai\n",
    "import os \n",
    "os.environ[\"LANGFUSE_PUBLIC_KEY\"] = \"pk-lf-4624705e-b895-41ec-9a26-4012c6274411\"\n",
    "os.environ[\"LANGFUSE_SECRET_KEY\"] = \"sk-lf-1f991509-4342-4860-a304-ebb8198a5d24\"\n",
    "os.environ[\"LANGFUSE_HOST\"] = \"http://localhost:3000\"\n",
    "\n",
    "\n",
    "from langfuse import Langfuse\n",
    "langfuse = Langfuse()\n",
    " \n",
    "# optional, verify that Langfuse is configured correctly\n",
    "langfuse.auth_check()"
   ]
  },
  {
   "cell_type": "code",
   "execution_count": null,
   "id": "502379e9-2e21-47c7-8a02-8b492d9bbe03",
   "metadata": {},
   "outputs": [],
   "source": []
  },
  {
   "cell_type": "code",
   "execution_count": 12,
   "id": "0528d652-216a-46f6-bae3-889e00c13d19",
   "metadata": {},
   "outputs": [],
   "source": [
    "langfuse.create_prompt(\n",
    "    name=\"post_summarization\",\n",
    "    prompt=\"해당 텍스트에서 주요 정보를 추출하여 주어진 JSON의 데이터를 반환하시오 . Json 스키마는 이와 같다: {{json_schema}}\",\n",
    "    config={\n",
    "        \"model\":\"gpt-3.5-turbo-1106\",\n",
    "        \"temperature\": 0,\n",
    "        \"json_schema\":{\n",
    "            \"date\": \"게시글 업로드 날짜 \",\n",
    "            \"content\": \"한문장으로 구성된 요약 내용\",\n",
    "            \"keywords\": \"array 로 된 키워드\",\n",
    "            \"category\": \"건의, 자유, 버그 중 하나\",\n",
    "            \"sentiment\": \"-1 과 1 사이의 sentiment score\",\n",
    "            \"game\": \"관련 게임 명\"\n",
    "        }\n",
    "    },\n",
    "    labels=[\"production\"]\n",
    ");"
   ]
  },
  {
   "cell_type": "code",
   "execution_count": 13,
   "id": "06f46fe8-bcfa-4a3f-91e6-182e0271fae0",
   "metadata": {},
   "outputs": [],
   "source": [
    "prompt = langfuse.get_prompt(\"post_summarization\")"
   ]
  },
  {
   "cell_type": "code",
   "execution_count": 14,
   "id": "0f4db4c6-247e-46c5-b616-816b7417c433",
   "metadata": {},
   "outputs": [
    {
     "data": {
      "text/plain": [
       "{'model': 'gpt-3.5-turbo-1106',\n",
       " 'json_schema': {'date': '게시글 업로드 날짜 ',\n",
       "  'game': '관련 게임 명',\n",
       "  'content': '한문장으로 구성된 요약 내용',\n",
       "  'category': '건의, 자유, 버그 중 하나',\n",
       "  'keywords': 'array 로 된 키워드',\n",
       "  'sentiment': '-1 과 1 사이의 sentiment score'},\n",
       " 'temperature': 0}"
      ]
     },
     "execution_count": 14,
     "metadata": {},
     "output_type": "execute_result"
    }
   ],
   "source": [
    "prompt.config"
   ]
  },
  {
   "cell_type": "code",
   "execution_count": null,
   "id": "46ed5c11-d4a3-49cd-bfa6-61598cad0b25",
   "metadata": {},
   "outputs": [],
   "source": []
  },
  {
   "cell_type": "code",
   "execution_count": 20,
   "id": "56c11130-8bfe-49f5-845b-6b4a293ce403",
   "metadata": {},
   "outputs": [],
   "source": [
    "from langfuse.openai import OpenAI\n",
    "client = OpenAI()"
   ]
  },
  {
   "cell_type": "code",
   "execution_count": 21,
   "id": "4da995b3-d19a-447b-9615-6b7832ad5fa0",
   "metadata": {},
   "outputs": [],
   "source": [
    "import json\n",
    " \n",
    "def summarize_post(story):\n",
    "  # Stringify the JSON schema\n",
    "  json_schema_str = ', '.join([f\"'{key}': {value}\" for key, value in prompt.config[\"json_schema\"].items()])\n",
    " \n",
    "  # Compile prompt with stringified version of json schema\n",
    "  system_message = prompt.compile(json_schema=json_schema_str)\n",
    " \n",
    "  # Format as OpenAI messages\n",
    "  messages = [\n",
    "      {\"role\":\"system\",\"content\": system_message},\n",
    "      {\"role\":\"user\",\"content\":story}\n",
    "  ]\n",
    " \n",
    "  # Get additional config\n",
    "  model = prompt.config[\"model\"]\n",
    "  temperature = prompt.config[\"temperature\"]\n",
    " \n",
    "  # Execute LLM call\n",
    "  res = client.chat.completions.create(\n",
    "    model = model,\n",
    "    temperature = temperature,\n",
    "    messages = messages,\n",
    "    response_format = { \"type\": \"json_object\" },\n",
    "    langfuse_prompt = prompt # capture used prompt version in trace\n",
    "  )\n",
    " \n",
    "  # Parse response as JSON\n",
    "  res = json.loads(res.choices[0].message.content)\n",
    " \n",
    "  return res"
   ]
  },
  {
   "cell_type": "code",
   "execution_count": 22,
   "id": "145c6397-ff97-4cd2-8290-1465de6cc859",
   "metadata": {},
   "outputs": [
    {
     "data": {
      "text/plain": [
       "{'date': '2024.09.22',\n",
       " 'game': '찍찍이약먹어추천',\n",
       " 'content': '보호조치, 영구정지, 작업장(계정 무한반복 삭제) 문제심각. 게임사에 유저들이 건의한 내용을 취합하여 남깁니다. 메인퀘스트 셀로비아, 흐니르에서 드랍되는 거인템+미결은 니다벨리르 이후 메인퀘스트 보스 드랍템으로 변경, 파티던전 맹독의뱀 매주 3회 무료이용권으로 드랍되는템은 귀속으로 변경, 신규유저 희귀장비 지급일을 5일 이후로 변경, 거래소 판매 렙제한 40이상으로 변경, 매주 계정 세탁 초기화방지 수단으로 오딘 계정 탈퇴한 카카오톡으로 1주일간 재가입 불가 딜레이만 걸어주셔도 됩니다. 게임속 작업장이 있던 말던 상관없습니다만, 게임 시스템 악용하고 있는 어뷰징만은 막아주리라 믿습니다.(계정초기화)',\n",
       " 'category': '건의',\n",
       " 'keywords': ['찍찍이약먹어추천',\n",
       "  '보호조치',\n",
       "  '영구정지',\n",
       "  '작업장',\n",
       "  '게임사',\n",
       "  '유저들',\n",
       "  '건의',\n",
       "  '메인퀘스트',\n",
       "  '파티던전',\n",
       "  '신규유저',\n",
       "  '거래소',\n",
       "  '계정 세탁 초기화방지',\n",
       "  '작업장 수익구조'],\n",
       " 'sentiment': -0.3}"
      ]
     },
     "execution_count": 22,
     "metadata": {},
     "output_type": "execute_result"
    }
   ],
   "source": [
    "summarize_post(post)"
   ]
  },
  {
   "cell_type": "code",
   "execution_count": 26,
   "id": "758912f7-599a-46b5-b0f1-a0679ba61de6",
   "metadata": {},
   "outputs": [
    {
     "data": {
      "text/plain": [
       "{'date': '2024.09.22',\n",
       " 'game': '니플하임',\n",
       " 'content': '니플하임 초반 몬스터 피통을 깍아주고 이번 무스펠 9강 공컬렉 나온 것처럼 7강 이상이여도 유효컬렉(공 명) 이렇게 분포를 해주시면 좋을거같습니다',\n",
       " 'category': '건의',\n",
       " 'keywords': ['니플하임', '개편', '투력', '사냥터', '컬렉', '경험치', '골드'],\n",
       " 'sentiment': 0.5}"
      ]
     },
     "execution_count": 26,
     "metadata": {},
     "output_type": "execute_result"
    }
   ],
   "source": [
    "summarize_post(post2)"
   ]
  },
  {
   "cell_type": "code",
   "execution_count": null,
   "id": "e79b5df1-fd75-4186-bef4-0a7094189c76",
   "metadata": {},
   "outputs": [],
   "source": []
  },
  {
   "cell_type": "code",
   "execution_count": null,
   "id": "d49df48e-9b51-4fae-b9ee-99dac1c87677",
   "metadata": {},
   "outputs": [],
   "source": []
  },
  {
   "cell_type": "code",
   "execution_count": 25,
   "id": "6a4818e0-97de-48aa-97ec-4609443b2555",
   "metadata": {},
   "outputs": [],
   "source": [
    "post2 = \"\"\"\n",
    "니플하임 개편 부탁드립니다 (모든 7~8만투 공감내용)\n",
    "\n",
    "굴베장신추천 0조회 48324.09.22 16:53댓글 4북마크공유하기기능 더보기\n",
    "모든 7~8만투가 공감하는 내용입니다\n",
    "이투력에선 투력을 올리기도 쉽지 않은데\n",
    "사냥터는 니플하임 초반이 메리트가 크게 없어 그대로 아스가르드 마지막 사냥터에서 사냥을 합니다\n",
    "\n",
    "투력구간에서 자주 하는말들이 니플하임 초반가면 몬스터들이 아스 마지막보다 확 단단해지고 피통도 늘어나서\n",
    "사냥속도도 오래걸리며, 그에 맞는 컬렉도 유효 컬렉이아닌 막기 막기상쇄 이런 부주력의 컬렉들이라\n",
    "\n",
    "차라리 경험치 골드 더주는 격전으로 몰리고 있습니다,,\n",
    "\n",
    "니플하임 초반 몬스터 피통을 깍아주고 이번 무스펠 9강 공컬렉 나온 것처럼 7강 이상이여도 유효컬렉(공 명) 이렇게 분포를 해주시면 좋을거같습니다\n",
    "\n",
    "심지어 아스 초입에도 유효 컬렉 아이템 파밍이 가능합니다.\n",
    "\n",
    "이상입니다\n",
    "\"\"\""
   ]
  },
  {
   "cell_type": "code",
   "execution_count": 19,
   "id": "c4432a48-fa4c-4288-b672-566a14f778d3",
   "metadata": {},
   "outputs": [],
   "source": [
    "post = \"\"\" 찍찍이약먹어추천 0조회 7024.09.22 21:12댓글 0북마크공유하기기능 더보기\n",
    "기존 내용 참조\n",
    "\n",
    "https://cafe.daum.net/odin/DEIV/35872\n",
    "\n",
    "\n",
    "[재업]보호조치, 영구정지, 작업장(계정 무한반복 삭제) 문제심각\n",
    "\n",
    "*2024-03-25추가현재 이슈되고 있는 유튜버 무끝님 영구정지로 인해 다시 한번 업로드 합니다.플레이어 여러분이 보호조치나, 영구정지로 무고밴 당했다면 그건 작업장이랑 같은 루트로 된 미드-\n",
    "\n",
    "cafe.daum.net\n",
    " \n",
    "\n",
    " \n",
    "\n",
    " \n",
    "\n",
    " \n",
    "\n",
    "미드-요툰 흐니르 까지 미는 작업장을 방치하는 이유가 뭘까요?\n",
    "\n",
    "마켓 다운로드수 때문일까요? 아니면 작업장 유입으로 인한 접속수 일까요?\n",
    "\n",
    "저번주 업뎃이트로 신규서버에 유입되는 신규유저 눈속임으로 거미알 터트리기가 단일이 아닌 중복으로 가능하게끔 패치하셧더군요.\n",
    "\n",
    "보다 쾌적한 게임환경을 위해 미드-요툰 흐니르 까지 미는 작업장 단속 안하는게 니다벨리르 몬스터 개체수를 줄이는것보다 더 효율적이 였을까요?\n",
    "\n",
    " \n",
    "\n",
    "일부 골빈유저들이 이런얘기를 하는데 저런 작업장이 있어 재료템을 저렴하게 산다고? \n",
    "\n",
    "다시 한번 말하자만 쟤네 주수입원은 흐니르에서 얻어가는 미결+파티던전에서 나오는 미결입니다.\n",
    "\n",
    "거인템 시세 하락으로 주수입원은 그냥 미결뿐입니다.\n",
    "\n",
    "지하감옥 난쟁이에서 드랍되는 위그드람 구드벨 각종강화석은 쟤네랑 1도 상관없어요.\n",
    "\n",
    "매주 월요일에 계정초기화 작업후 매 유저수가 많은 도시섭(오딘+토르+신규서버 에기르)에 캐릭생성후\n",
    "\n",
    "한개서버마다 미결작업 하고 게임사에서 방치하는 주말 시간을 이용해 불법다이아 유통후 월요일 다시 계정 초기화 작업 반복하고 있습니다.\n",
    "\n",
    "게임사에 유저들이 건의드린 내용은 그간 너무나 많은데 취합해 남겨드립니다.\n",
    "\n",
    "1, 메인퀘스트 셀로비아, 흐니르 에서 드랍되는 거인템+미결은 니다벨리르 이후 메인퀘스트 보스 드랍템으로 변경\n",
    "\n",
    "2, 파티던전 맹독의뱀 매주 3회 무료이용권으로 드랍되는템은 귀속으로 변경 \n",
    "\n",
    "3, 신규유저 희귀장비 지급일을 5일 이후로 변경\n",
    "\n",
    "4, 거래소 판매 렙제한 40이상으로 변경\n",
    "\n",
    " \n",
    "\n",
    "추가\n",
    "\n",
    "5, 매주 계정 세탁 초기화방지 수단으로 오딘 계정 탈퇴한 카카오톡으로 1주일간 재가입 불가 딜레이만 걸어주셔도 됩니다.\n",
    "\n",
    "게임속 작업장이 있던 말던 상관없습니다만, 게임 시스템 악용하고 있는 어뷰징만은 막아주리라 믿습니다.(계정초기화)\n",
    "\n",
    "이걸 반대하는건 그냥 작업장.\n",
    "\n",
    " \n",
    "\n",
    "이중 하나라도 해주면 게시판 다시는 어지럽게 하지 않겠습니다.\n",
    "\n",
    "그게 아니라면 처리 할때까지 매일 올리겠습니다.\n",
    "\n",
    " \n",
    "\n",
    "저는 작업장이 벌어가는것을 게임사가 더 많이 벌어가길 원합니다.\n",
    "\n",
    "이런작업장 수익구조를 원천차단 하고 그 수익구조를 게임사가 가져가는 패치를 하심을 추천드립니다. \n",
    "\n",
    "작업장이 없다고 해서 재료 가격이 오른다고 하시는데,\n",
    "\n",
    "작업장이 벌어가는 수익을 게임사가 가져가는 패치를 하면 그에 따른 재료수급 루트를 넓혀주는게 게임사가 해야할일입니다.\n",
    "\n",
    " \n",
    "저작자 표시컨텐츠변경비영리\n",
    "댓글0추천해요0스크랩0 \"\"\""
   ]
  },
  {
   "cell_type": "code",
   "execution_count": null,
   "id": "faab1bbe-a7d9-4cd9-9fd1-e00fa8366dec",
   "metadata": {},
   "outputs": [],
   "source": []
  },
  {
   "cell_type": "code",
   "execution_count": null,
   "id": "1867ef1c-fa02-4913-8e10-9a797041f886",
   "metadata": {},
   "outputs": [],
   "source": []
  }
 ],
 "metadata": {
  "kernelspec": {
   "display_name": "Python 3 (ipykernel)",
   "language": "python",
   "name": "python3"
  },
  "language_info": {
   "codemirror_mode": {
    "name": "ipython",
    "version": 3
   },
   "file_extension": ".py",
   "mimetype": "text/x-python",
   "name": "python",
   "nbconvert_exporter": "python",
   "pygments_lexer": "ipython3",
   "version": "3.11.9"
  }
 },
 "nbformat": 4,
 "nbformat_minor": 5
}
